{
 "cells": [
  {
   "cell_type": "markdown",
   "metadata": {},
   "source": [
    "# Libraries"
   ]
  },
  {
   "cell_type": "code",
   "execution_count": 2,
   "metadata": {},
   "outputs": [],
   "source": [
    "import pickle\n",
    "import pandas as pd\n",
    "import seaborn as sns\n",
    "from os.path import exists\n",
    "import matplotlib.pyplot as plt\n",
    "from sklearn.neighbors import KNeighborsClassifier\n",
    "from sklearn.model_selection import train_test_split\n",
    "from sklearn.metrics import accuracy_score, confusion_matrix\n",
    "\n",
    "\n",
    "# Data manipulation and analysis\n",
    "import pandas as pd\n",
    "import numpy as np\n",
    "\n",
    "# Machine learning model selection, training, and evaluation\n",
    "from sklearn.model_selection import train_test_split\n",
    "from sklearn.preprocessing import StandardScaler, LabelEncoder\n",
    "from sklearn.neighbors import KNeighborsRegressor\n",
    "from sklearn.metrics import mean_squared_error, accuracy_score, confusion_matrix\n",
    "from sklearn.feature_extraction.text import TfidfVectorizer\n",
    "\n",
    "# Visualization\n",
    "import matplotlib.pyplot as plt\n",
    "import seaborn as sns\n",
    "\n",
    "# Utility and file handling\n",
    "import pickle\n",
    "from os.path import exists"
   ]
  },
  {
   "cell_type": "markdown",
   "metadata": {},
   "source": [
    "# Loading the Files\n",
    "\n",
    "Download the csv files into the `data/` directory."
   ]
  },
  {
   "cell_type": "code",
   "execution_count": 3,
   "metadata": {},
   "outputs": [
    {
     "name": "stdout",
     "output_type": "stream",
     "text": [
      "train.csv shape is  (1697533, 9)\n",
      "test.csv shape is  (212192, 2)\n",
      "\n",
      "        Id   ProductId          UserId  HelpfulnessNumerator  \\\n",
      "0   914403  B0009W5KHM   AV6QDP8Q0ONK4                     2   \n",
      "1   354887  6303079709  A2I8RXJN80A2D2                     0   \n",
      "2  1407653  B004H0M2XC  A3FHV3RV8Z12E6                     0   \n",
      "3  1377458  B003ZJ9536  A12VLTA3ZHVPUY                     1   \n",
      "4   475323  630574453X  A13NM1PES9OXVN                     2   \n",
      "\n",
      "   HelpfulnessDenominator        Time  \\\n",
      "0                       2  1341014400   \n",
      "1                       0  1168819200   \n",
      "2                       0  1386201600   \n",
      "3                       1  1348704000   \n",
      "4                       3   970012800   \n",
      "\n",
      "                                         Summary  \\\n",
      "0                                  GOOD FUN FILM   \n",
      "1                                   Movie Review   \n",
      "2             When is it a good time to Consent?   \n",
      "3                                          TRUTH   \n",
      "4  Intelligent and bittersweet -- stays with you   \n",
      "\n",
      "                                                Text  Score  \n",
      "0  While most straight to DVD films are not worth...    5.0  \n",
      "1  I have wanted this one for sometime, also.  I ...    5.0  \n",
      "2  Actually this was a pretty darn good indie fil...    4.0  \n",
      "3  Episodes 37 to 72 of the series press on in a ...    5.0  \n",
      "4  I was really impressed with this movie, but wa...    3.0  \n",
      "\n",
      "        Id  Score\n",
      "0  1323432    NaN\n",
      "1  1137299    NaN\n",
      "2  1459366    NaN\n",
      "3   931601    NaN\n",
      "4  1311995    NaN\n",
      "\n",
      "                 Id  HelpfulnessNumerator  HelpfulnessDenominator  \\\n",
      "count  1.697533e+06          1.697533e+06            1.697533e+06   \n",
      "mean   8.487660e+05          3.569048e+00            5.301422e+00   \n",
      "std    4.900357e+05          1.727883e+01            2.024445e+01   \n",
      "min    0.000000e+00          0.000000e+00            0.000000e+00   \n",
      "25%    4.243830e+05          0.000000e+00            0.000000e+00   \n",
      "50%    8.487660e+05          1.000000e+00            1.000000e+00   \n",
      "75%    1.273149e+06          3.000000e+00            5.000000e+00   \n",
      "max    1.697532e+06          6.084000e+03            6.510000e+03   \n",
      "\n",
      "               Time         Score  \n",
      "count  1.697533e+06  1.485341e+06  \n",
      "mean   1.262422e+09  4.110517e+00  \n",
      "std    1.289277e+08  1.197651e+00  \n",
      "min    8.793792e+08  1.000000e+00  \n",
      "25%    1.164413e+09  4.000000e+00  \n",
      "50%    1.307491e+09  5.000000e+00  \n",
      "75%    1.373242e+09  5.000000e+00  \n",
      "max    1.406074e+09  5.000000e+00  \n"
     ]
    },
    {
     "data": {
      "image/png": "[encoded data removed]",
      "text/plain": [
       "<Figure size 640x480 with 1 Axes>"
      ]
     },
     "metadata": {},
     "output_type": "display_data"
    },
    {
     "name": "stdout",
     "output_type": "stream",
     "text": [
      "\n",
      "EVERYTHING IS PROPERLY SET UP! YOU ARE READY TO START\n"
     ]
    }
   ],
   "source": [
    "trainingSet = pd.read_csv(\"./data/train.csv\")\n",
    "testingSet = pd.read_csv(\"./data/test.csv\")\n",
    "\n",
    "print(\"train.csv shape is \", trainingSet.shape)\n",
    "print(\"test.csv shape is \", testingSet.shape)\n",
    "\n",
    "print()\n",
    "\n",
    "print(trainingSet.head())\n",
    "print()\n",
    "print(testingSet.head())\n",
    "\n",
    "print()\n",
    "\n",
    "print(trainingSet.describe())\n",
    "\n",
    "trainingSet['Score'].value_counts().plot(kind='bar', legend=True, alpha=.5)\n",
    "plt.show()\n",
    "\n",
    "print()\n",
    "print(\"EVERYTHING IS PROPERLY SET UP! YOU ARE READY TO START\")"
   ]
  },
  {
   "cell_type": "code",
   "execution_count": 4,
   "metadata": {},
   "outputs": [],
   "source": [
    "# Deals with preventing memory errors for the next part\n",
    "\n",
    "from scipy.sparse import vstack\n",
    "from sklearn.feature_extraction.text import TfidfVectorizer\n",
    "\n",
    "# Process text data in chunks to avoid memory errors\n",
    "def process_tfidf_in_chunks(text_series, chunk_size=30000, max_features=450):\n",
    "    vectorizer = TfidfVectorizer(max_features=max_features)\n",
    "    tfidf_chunks = []\n",
    "    \n",
    "    for start in range(0, len(text_series), chunk_size):\n",
    "        end = min(start + chunk_size, len(text_series))\n",
    "        print(f\"Processing rows {start} to {end}\")\n",
    "        chunk_tfidf = vectorizer.fit_transform(text_series[start:end])\n",
    "        tfidf_chunks.append(chunk_tfidf)\n",
    "        \n",
    "    return vstack(tfidf_chunks)  # Combines sparse matrices efficiently\n"
   ]
  },
  {
   "cell_type": "markdown",
   "metadata": {},
   "source": [
    "# Adding Features"
   ]
  },
  {
   "cell_type": "code",
   "execution_count": 5,
   "metadata": {},
   "outputs": [],
   "source": [
    "# Import necessary libraries for adding features\n",
    "import numpy as np\n",
    "import pandas as pd\n",
    "from sklearn.preprocessing import LabelEncoder\n",
    "from os.path import exists\n",
    "\n",
    "# Define a function to add features to a DataFrame\n",
    "def add_features_to(df):\n",
    "    # Fill missing values for main features before additional feature engineering\n",
    "    df['HelpfulnessNumerator'].fillna(0, inplace=True)\n",
    "    df['HelpfulnessDenominator'].fillna(0, inplace=True)\n",
    "    df['Time'].fillna(df['Time'].median(), inplace=True)\n",
    "    df['Text'].fillna(\"\", inplace=True)\n",
    "    df['Summary'].fillna(\"\", inplace=True)\n",
    "\n",
    "    # Encode ProductId and UserId for categorical variables\n",
    "    label_encoder_product = LabelEncoder()\n",
    "    df['ProductId_encoded'] = label_encoder_product.fit_transform(df['ProductId'])\n",
    "    df['ProductId_encoded'] = df['ProductId_encoded'].astype('category')  # Convert to category type\n",
    "\n",
    "    label_encoder_user = LabelEncoder()\n",
    "    df['UserId_encoded'] = label_encoder_user.fit_transform(df['UserId'])\n",
    "    df['UserId_encoded'] = df['UserId_encoded'].astype('category')  # Convert to category type\n",
    "\n",
    "    # Calculate Helpfulness ratio and handle cases where Denominator is 0\n",
    "    df['Helpfulness'] = np.where(df['HelpfulnessDenominator'] == 0, 0,\n",
    "                                 df['HelpfulnessNumerator'] / df['HelpfulnessDenominator'])\n",
    "\n",
    "    # Compute the average score per user as an additional feature\n",
    "    df['user_avg_score'] = df.groupby('UserId')['Score'].transform('mean')\n",
    "    df['user_avg_score'] = df['user_avg_score'].fillna(df['Score'].mean())\n",
    "\n",
    "    # Extract year from the timestamp for time-based analysis\n",
    "    df['Year'] = pd.to_datetime(df['Time'], unit='s').dt.year\n",
    "\n",
    "    return df\n",
    "\n",
    "# Check if feature-extracted files already exist\n",
    "if exists('./data/X_train.csv') and exists('./data/X_submission.csv'):\n",
    "    X_train = pd.read_csv(\"./data/X_train.csv\")\n",
    "    X_submission = pd.read_csv(\"./data/X_submission.csv\")\n",
    "else:\n",
    "    # Apply feature engineering to training set\n",
    "    train = add_features_to(trainingSet)\n",
    "\n",
    "    # Chunked TF-IDF transformation\n",
    "    text_tfidf = process_tfidf_in_chunks(train['Text'])\n",
    "\n",
    "    # Merge TF-IDF features with existing ones\n",
    "    train = pd.concat([train.reset_index(drop=True), pd.DataFrame(text_tfidf.toarray())], axis=1)\n",
    "    \n",
    "    # Merge with test data based on 'Id' to maintain structure for predictions\n",
    "    X_submission = pd.merge(train, testingSet, on='Id', suffixes=('_train', '_test'))\n",
    "    X_submission = X_submission.drop(columns=['Score_train'])\n",
    "    X_submission = X_submission.rename(columns={'Score_test': 'Score'})\n",
    "\n",
    "    # Separate out rows with available 'Score' values for training\n",
    "    X_train = train[train['Score'].notna()]\n",
    "\n",
    "    # Save processed files for reuse\n",
    "    X_submission.to_csv(\"./data/X_submission.csv\", index=False)\n",
    "    X_train.to_csv(\"./data/X_train.csv\", index=False)\n"
   ]
  },
  {
   "cell_type": "markdown",
   "metadata": {},
   "source": [
    "# Sample + Split into training and testing set"
   ]
  },
  {
   "cell_type": "code",
   "execution_count": 6,
   "metadata": {},
   "outputs": [
    {
     "name": "stdout",
     "output_type": "stream",
     "text": [
      "Column names in X_train: [\"'Id'\", \"'ProductId'\", \"'UserId'\", \"'HelpfulnessNumerator'\", \"'HelpfulnessDenominator'\", \"'Time'\", \"'Summary'\", \"'Text'\", \"'Score'\", \"'ProductId_encoded'\", \"'UserId_encoded'\", \"'Helpfulness'\", \"'user_avg_score'\", \"'Year'\", \"'0'\", \"'1'\", \"'2'\", \"'3'\", \"'4'\", \"'5'\", \"'6'\", \"'7'\", \"'8'\", \"'9'\", \"'10'\", \"'11'\", \"'12'\", \"'13'\", \"'14'\", \"'15'\", \"'16'\", \"'17'\", \"'18'\", \"'19'\", \"'20'\", \"'21'\", \"'22'\", \"'23'\", \"'24'\", \"'25'\", \"'26'\", \"'27'\", \"'28'\", \"'29'\", \"'30'\", \"'31'\", \"'32'\", \"'33'\", \"'34'\", \"'35'\", \"'36'\", \"'37'\", \"'38'\", \"'39'\", \"'40'\", \"'41'\", \"'42'\", \"'43'\", \"'44'\", \"'45'\", \"'46'\", \"'47'\", \"'48'\", \"'49'\", \"'50'\", \"'51'\", \"'52'\", \"'53'\", \"'54'\", \"'55'\", \"'56'\", \"'57'\", \"'58'\", \"'59'\", \"'60'\", \"'61'\", \"'62'\", \"'63'\", \"'64'\", \"'65'\", \"'66'\", \"'67'\", \"'68'\", \"'69'\", \"'70'\", \"'71'\", \"'72'\", \"'73'\", \"'74'\", \"'75'\", \"'76'\", \"'77'\", \"'78'\", \"'79'\", \"'80'\", \"'81'\", \"'82'\", \"'83'\", \"'84'\", \"'85'\", \"'86'\", \"'87'\", \"'88'\", \"'89'\", \"'90'\", \"'91'\", \"'92'\", \"'93'\", \"'94'\", \"'95'\", \"'96'\", \"'97'\", \"'98'\", \"'99'\", \"'100'\", \"'101'\", \"'102'\", \"'103'\", \"'104'\", \"'105'\", \"'106'\", \"'107'\", \"'108'\", \"'109'\", \"'110'\", \"'111'\", \"'112'\", \"'113'\", \"'114'\", \"'115'\", \"'116'\", \"'117'\", \"'118'\", \"'119'\", \"'120'\", \"'121'\", \"'122'\", \"'123'\", \"'124'\", \"'125'\", \"'126'\", \"'127'\", \"'128'\", \"'129'\", \"'130'\", \"'131'\", \"'132'\", \"'133'\", \"'134'\", \"'135'\", \"'136'\", \"'137'\", \"'138'\", \"'139'\", \"'140'\", \"'141'\", \"'142'\", \"'143'\", \"'144'\", \"'145'\", \"'146'\", \"'147'\", \"'148'\", \"'149'\", \"'150'\", \"'151'\", \"'152'\", \"'153'\", \"'154'\", \"'155'\", \"'156'\", \"'157'\", \"'158'\", \"'159'\", \"'160'\", \"'161'\", \"'162'\", \"'163'\", \"'164'\", \"'165'\", \"'166'\", \"'167'\", \"'168'\", \"'169'\", \"'170'\", \"'171'\", \"'172'\", \"'173'\", \"'174'\", \"'175'\", \"'176'\", \"'177'\", \"'178'\", \"'179'\", \"'180'\", \"'181'\", \"'182'\", \"'183'\", \"'184'\", \"'185'\", \"'186'\", \"'187'\", \"'188'\", \"'189'\", \"'190'\", \"'191'\", \"'192'\", \"'193'\", \"'194'\", \"'195'\", \"'196'\", \"'197'\", \"'198'\", \"'199'\", \"'200'\", \"'201'\", \"'202'\", \"'203'\", \"'204'\", \"'205'\", \"'206'\", \"'207'\", \"'208'\", \"'209'\", \"'210'\", \"'211'\", \"'212'\", \"'213'\", \"'214'\", \"'215'\", \"'216'\", \"'217'\", \"'218'\", \"'219'\", \"'220'\", \"'221'\", \"'222'\", \"'223'\", \"'224'\", \"'225'\", \"'226'\", \"'227'\", \"'228'\", \"'229'\", \"'230'\", \"'231'\", \"'232'\", \"'233'\", \"'234'\", \"'235'\", \"'236'\", \"'237'\", \"'238'\", \"'239'\", \"'240'\", \"'241'\", \"'242'\", \"'243'\", \"'244'\", \"'245'\", \"'246'\", \"'247'\", \"'248'\", \"'249'\", \"'250'\", \"'251'\", \"'252'\", \"'253'\", \"'254'\", \"'255'\", \"'256'\", \"'257'\", \"'258'\", \"'259'\", \"'260'\", \"'261'\", \"'262'\", \"'263'\", \"'264'\", \"'265'\", \"'266'\", \"'267'\", \"'268'\", \"'269'\", \"'270'\", \"'271'\", \"'272'\", \"'273'\", \"'274'\", \"'275'\", \"'276'\", \"'277'\", \"'278'\", \"'279'\", \"'280'\", \"'281'\", \"'282'\", \"'283'\", \"'284'\", \"'285'\", \"'286'\", \"'287'\", \"'288'\", \"'289'\", \"'290'\", \"'291'\", \"'292'\", \"'293'\", \"'294'\", \"'295'\", \"'296'\", \"'297'\", \"'298'\", \"'299'\", \"'300'\", \"'301'\", \"'302'\", \"'303'\", \"'304'\", \"'305'\", \"'306'\", \"'307'\", \"'308'\", \"'309'\", \"'310'\", \"'311'\", \"'312'\", \"'313'\", \"'314'\", \"'315'\", \"'316'\", \"'317'\", \"'318'\", \"'319'\", \"'320'\", \"'321'\", \"'322'\", \"'323'\", \"'324'\", \"'325'\", \"'326'\", \"'327'\", \"'328'\", \"'329'\", \"'330'\", \"'331'\", \"'332'\", \"'333'\", \"'334'\", \"'335'\", \"'336'\", \"'337'\", \"'338'\", \"'339'\", \"'340'\", \"'341'\", \"'342'\", \"'343'\", \"'344'\", \"'345'\", \"'346'\", \"'347'\", \"'348'\", \"'349'\", \"'350'\", \"'351'\", \"'352'\", \"'353'\", \"'354'\", \"'355'\", \"'356'\", \"'357'\", \"'358'\", \"'359'\", \"'360'\", \"'361'\", \"'362'\", \"'363'\", \"'364'\", \"'365'\", \"'366'\", \"'367'\", \"'368'\", \"'369'\", \"'370'\", \"'371'\", \"'372'\", \"'373'\", \"'374'\", \"'375'\", \"'376'\", \"'377'\", \"'378'\", \"'379'\", \"'380'\", \"'381'\", \"'382'\", \"'383'\", \"'384'\", \"'385'\", \"'386'\", \"'387'\", \"'388'\", \"'389'\", \"'390'\", \"'391'\", \"'392'\", \"'393'\", \"'394'\", \"'395'\", \"'396'\", \"'397'\", \"'398'\", \"'399'\", \"'400'\", \"'401'\", \"'402'\", \"'403'\", \"'404'\", \"'405'\", \"'406'\", \"'407'\", \"'408'\", \"'409'\", \"'410'\", \"'411'\", \"'412'\", \"'413'\", \"'414'\", \"'415'\", \"'416'\", \"'417'\", \"'418'\", \"'419'\", \"'420'\", \"'421'\", \"'422'\", \"'423'\", \"'424'\", \"'425'\", \"'426'\", \"'427'\", \"'428'\", \"'429'\", \"'430'\", \"'431'\", \"'432'\", \"'433'\", \"'434'\", \"'435'\", \"'436'\", \"'437'\", \"'438'\", \"'439'\", \"'440'\", \"'441'\", \"'442'\", \"'443'\", \"'444'\", \"'445'\", \"'446'\", \"'447'\", \"'448'\", \"'449'\"]\n",
      "'Score' is present in X_train.\n",
      "Training and testing sets created successfully.\n"
     ]
    }
   ],
   "source": [
    "# Checking to see Score in columns \n",
    "# Check for hidden spaces or formatting issues\n",
    "print(\"Column names in X_train:\", [f\"'{col}'\" for col in X_train.columns])\n",
    "\n",
    "# Strip any unwanted spaces in column names if needed\n",
    "X_train.columns = X_train.columns.str.strip()\n",
    "\n",
    "# Now check again\n",
    "if 'Score' in X_train.columns:\n",
    "    print(\"'Score' is present in X_train.\")\n",
    "else:\n",
    "    print(\"'Score' is not in X_train.\")\n",
    "\n",
    "# Separate features (X) and target (y) for the main training set\n",
    "X = X_train.drop(columns=['Score'])  # Ensure 'Score' is excluded from the features\n",
    "y = X_train['Score']  # Use 'Score' as the target variable\n",
    "\n",
    "# Split the training set into new training and testing sets\n",
    "X_train, X_test, Y_train, Y_test = train_test_split(\n",
    "    X,    # Features only\n",
    "    y,    # Target only\n",
    "    test_size=0.25,  # Use 25% of data for testing\n",
    "    random_state=0   # Set random state for reproducibility\n",
    ")\n",
    "\n",
    "print(\"Training and testing sets created successfully.\")\n"
   ]
  },
  {
   "cell_type": "markdown",
   "metadata": {},
   "source": [
    "# Feature Selection"
   ]
  },
  {
   "cell_type": "code",
   "execution_count": 9,
   "metadata": {},
   "outputs": [
    {
     "name": "stdout",
     "output_type": "stream",
     "text": [
      "at features\n",
      "data was split\n",
      "finished labels\n",
      "product id is finally done \n",
      "user id is finally done \n",
      "X_train_structured['ProductId'] done\n",
      "X_train_structured['UserId'] done\n",
      "X_val_structured['ProductId']\n",
      "X_val_structured['UserId'] done\n",
      "made model_gb\n",
      "model_gb.fit\n",
      "y_pred_gb\n",
      "at tokenizer\n",
      "model_bert\n"
     ]
    },
    {
     "ename": "KeyboardInterrupt",
     "evalue": "",
     "output_type": "error",
     "traceback": [
      "\u001b[1;31m---------------------------------------------------------------------------\u001b[0m",
      "\u001b[1;31mKeyboardInterrupt\u001b[0m                         Traceback (most recent call last)",
      "Cell \u001b[1;32mIn[9], line 68\u001b[0m\n\u001b[0;32m     65\u001b[0m     \u001b[38;5;28;01mreturn\u001b[39;00m np\u001b[38;5;241m.\u001b[39mvstack(embeddings)\n\u001b[0;32m     67\u001b[0m \u001b[38;5;66;03m# Generate embeddings for train and validation text data in batches\u001b[39;00m\n\u001b[1;32m---> 68\u001b[0m text_embeddings_train \u001b[38;5;241m=\u001b[39m \u001b[43mget_bert_embeddings\u001b[49m\u001b[43m(\u001b[49m\u001b[43mX_train\u001b[49m\u001b[43m[\u001b[49m\u001b[38;5;124;43m'\u001b[39;49m\u001b[38;5;124;43mText\u001b[39;49m\u001b[38;5;124;43m'\u001b[39;49m\u001b[43m]\u001b[49m\u001b[43m,\u001b[49m\u001b[43m \u001b[49m\u001b[43mbatch_size\u001b[49m\u001b[38;5;241;43m=\u001b[39;49m\u001b[38;5;241;43m256\u001b[39;49m\u001b[43m)\u001b[49m\n\u001b[0;32m     69\u001b[0m \u001b[38;5;28mprint\u001b[39m(\u001b[38;5;124m\"\u001b[39m\u001b[38;5;124mtext_embeddings_train done\u001b[39m\u001b[38;5;124m\"\u001b[39m)\n\u001b[0;32m     70\u001b[0m text_embeddings_val \u001b[38;5;241m=\u001b[39m get_bert_embeddings(X_val_structured[\u001b[38;5;124m'\u001b[39m\u001b[38;5;124mText\u001b[39m\u001b[38;5;124m'\u001b[39m], batch_size\u001b[38;5;241m=\u001b[39m\u001b[38;5;241m256\u001b[39m)\n",
      "Cell \u001b[1;32mIn[9], line 62\u001b[0m, in \u001b[0;36mget_bert_embeddings\u001b[1;34m(text_series, batch_size)\u001b[0m\n\u001b[0;32m     60\u001b[0m inputs \u001b[38;5;241m=\u001b[39m tokenizer(\u001b[38;5;28mlist\u001b[39m(batch_text), return_tensors\u001b[38;5;241m=\u001b[39m\u001b[38;5;124m\"\u001b[39m\u001b[38;5;124mpt\u001b[39m\u001b[38;5;124m\"\u001b[39m, padding\u001b[38;5;241m=\u001b[39m\u001b[38;5;28;01mTrue\u001b[39;00m, truncation\u001b[38;5;241m=\u001b[39m\u001b[38;5;28;01mTrue\u001b[39;00m, max_length\u001b[38;5;241m=\u001b[39m\u001b[38;5;241m128\u001b[39m)\n\u001b[0;32m     61\u001b[0m \u001b[38;5;28;01mwith\u001b[39;00m torch\u001b[38;5;241m.\u001b[39mno_grad():  \u001b[38;5;66;03m# disable gradient computation for inference\u001b[39;00m\n\u001b[1;32m---> 62\u001b[0m     outputs \u001b[38;5;241m=\u001b[39m \u001b[43mmodel_bert\u001b[49m\u001b[43m(\u001b[49m\u001b[38;5;241;43m*\u001b[39;49m\u001b[38;5;241;43m*\u001b[39;49m\u001b[43minputs\u001b[49m\u001b[43m)\u001b[49m\n\u001b[0;32m     63\u001b[0m batch_embeddings \u001b[38;5;241m=\u001b[39m outputs\u001b[38;5;241m.\u001b[39mlast_hidden_state\u001b[38;5;241m.\u001b[39mmean(dim\u001b[38;5;241m=\u001b[39m\u001b[38;5;241m1\u001b[39m)\u001b[38;5;241m.\u001b[39mnumpy()\n\u001b[0;32m     64\u001b[0m embeddings\u001b[38;5;241m.\u001b[39mappend(batch_embeddings)\n",
      "File \u001b[1;32mc:\\Users\\zande\\OneDrive\\Desktop\\College Classes\\Fall 2024\\CS 506\\Midterm Code\\env\\Lib\\site-packages\\torch\\nn\\modules\\module.py:1736\u001b[0m, in \u001b[0;36mModule._wrapped_call_impl\u001b[1;34m(self, *args, **kwargs)\u001b[0m\n\u001b[0;32m   1734\u001b[0m     \u001b[38;5;28;01mreturn\u001b[39;00m \u001b[38;5;28mself\u001b[39m\u001b[38;5;241m.\u001b[39m_compiled_call_impl(\u001b[38;5;241m*\u001b[39margs, \u001b[38;5;241m*\u001b[39m\u001b[38;5;241m*\u001b[39mkwargs)  \u001b[38;5;66;03m# type: ignore[misc]\u001b[39;00m\n\u001b[0;32m   1735\u001b[0m \u001b[38;5;28;01melse\u001b[39;00m:\n\u001b[1;32m-> 1736\u001b[0m     \u001b[38;5;28;01mreturn\u001b[39;00m \u001b[38;5;28;43mself\u001b[39;49m\u001b[38;5;241;43m.\u001b[39;49m\u001b[43m_call_impl\u001b[49m\u001b[43m(\u001b[49m\u001b[38;5;241;43m*\u001b[39;49m\u001b[43margs\u001b[49m\u001b[43m,\u001b[49m\u001b[43m \u001b[49m\u001b[38;5;241;43m*\u001b[39;49m\u001b[38;5;241;43m*\u001b[39;49m\u001b[43mkwargs\u001b[49m\u001b[43m)\u001b[49m\n",
      "File \u001b[1;32mc:\\Users\\zande\\OneDrive\\Desktop\\College Classes\\Fall 2024\\CS 506\\Midterm Code\\env\\Lib\\site-packages\\torch\\nn\\modules\\module.py:1747\u001b[0m, in \u001b[0;36mModule._call_impl\u001b[1;34m(self, *args, **kwargs)\u001b[0m\n\u001b[0;32m   1742\u001b[0m \u001b[38;5;66;03m# If we don't have any hooks, we want to skip the rest of the logic in\u001b[39;00m\n\u001b[0;32m   1743\u001b[0m \u001b[38;5;66;03m# this function, and just call forward.\u001b[39;00m\n\u001b[0;32m   1744\u001b[0m \u001b[38;5;28;01mif\u001b[39;00m \u001b[38;5;129;01mnot\u001b[39;00m (\u001b[38;5;28mself\u001b[39m\u001b[38;5;241m.\u001b[39m_backward_hooks \u001b[38;5;129;01mor\u001b[39;00m \u001b[38;5;28mself\u001b[39m\u001b[38;5;241m.\u001b[39m_backward_pre_hooks \u001b[38;5;129;01mor\u001b[39;00m \u001b[38;5;28mself\u001b[39m\u001b[38;5;241m.\u001b[39m_forward_hooks \u001b[38;5;129;01mor\u001b[39;00m \u001b[38;5;28mself\u001b[39m\u001b[38;5;241m.\u001b[39m_forward_pre_hooks\n\u001b[0;32m   1745\u001b[0m         \u001b[38;5;129;01mor\u001b[39;00m _global_backward_pre_hooks \u001b[38;5;129;01mor\u001b[39;00m _global_backward_hooks\n\u001b[0;32m   1746\u001b[0m         \u001b[38;5;129;01mor\u001b[39;00m _global_forward_hooks \u001b[38;5;129;01mor\u001b[39;00m _global_forward_pre_hooks):\n\u001b[1;32m-> 1747\u001b[0m     \u001b[38;5;28;01mreturn\u001b[39;00m \u001b[43mforward_call\u001b[49m\u001b[43m(\u001b[49m\u001b[38;5;241;43m*\u001b[39;49m\u001b[43margs\u001b[49m\u001b[43m,\u001b[49m\u001b[43m \u001b[49m\u001b[38;5;241;43m*\u001b[39;49m\u001b[38;5;241;43m*\u001b[39;49m\u001b[43mkwargs\u001b[49m\u001b[43m)\u001b[49m\n\u001b[0;32m   1749\u001b[0m result \u001b[38;5;241m=\u001b[39m \u001b[38;5;28;01mNone\u001b[39;00m\n\u001b[0;32m   1750\u001b[0m called_always_called_hooks \u001b[38;5;241m=\u001b[39m \u001b[38;5;28mset\u001b[39m()\n",
      "File \u001b[1;32mc:\\Users\\zande\\OneDrive\\Desktop\\College Classes\\Fall 2024\\CS 506\\Midterm Code\\env\\Lib\\site-packages\\transformers\\models\\bert\\modeling_bert.py:1142\u001b[0m, in \u001b[0;36mBertModel.forward\u001b[1;34m(self, input_ids, attention_mask, token_type_ids, position_ids, head_mask, inputs_embeds, encoder_hidden_states, encoder_attention_mask, past_key_values, use_cache, output_attentions, output_hidden_states, return_dict)\u001b[0m\n\u001b[0;32m   1135\u001b[0m \u001b[38;5;66;03m# Prepare head mask if needed\u001b[39;00m\n\u001b[0;32m   1136\u001b[0m \u001b[38;5;66;03m# 1.0 in head_mask indicate we keep the head\u001b[39;00m\n\u001b[0;32m   1137\u001b[0m \u001b[38;5;66;03m# attention_probs has shape bsz x n_heads x N x N\u001b[39;00m\n\u001b[0;32m   1138\u001b[0m \u001b[38;5;66;03m# input head_mask has shape [num_heads] or [num_hidden_layers x num_heads]\u001b[39;00m\n\u001b[0;32m   1139\u001b[0m \u001b[38;5;66;03m# and head_mask is converted to shape [num_hidden_layers x batch x num_heads x seq_length x seq_length]\u001b[39;00m\n\u001b[0;32m   1140\u001b[0m head_mask \u001b[38;5;241m=\u001b[39m \u001b[38;5;28mself\u001b[39m\u001b[38;5;241m.\u001b[39mget_head_mask(head_mask, \u001b[38;5;28mself\u001b[39m\u001b[38;5;241m.\u001b[39mconfig\u001b[38;5;241m.\u001b[39mnum_hidden_layers)\n\u001b[1;32m-> 1142\u001b[0m encoder_outputs \u001b[38;5;241m=\u001b[39m \u001b[38;5;28;43mself\u001b[39;49m\u001b[38;5;241;43m.\u001b[39;49m\u001b[43mencoder\u001b[49m\u001b[43m(\u001b[49m\n\u001b[0;32m   1143\u001b[0m \u001b[43m    \u001b[49m\u001b[43membedding_output\u001b[49m\u001b[43m,\u001b[49m\n\u001b[0;32m   1144\u001b[0m \u001b[43m    \u001b[49m\u001b[43mattention_mask\u001b[49m\u001b[38;5;241;43m=\u001b[39;49m\u001b[43mextended_attention_mask\u001b[49m\u001b[43m,\u001b[49m\n\u001b[0;32m   1145\u001b[0m \u001b[43m    \u001b[49m\u001b[43mhead_mask\u001b[49m\u001b[38;5;241;43m=\u001b[39;49m\u001b[43mhead_mask\u001b[49m\u001b[43m,\u001b[49m\n\u001b[0;32m   1146\u001b[0m \u001b[43m    \u001b[49m\u001b[43mencoder_hidden_states\u001b[49m\u001b[38;5;241;43m=\u001b[39;49m\u001b[43mencoder_hidden_states\u001b[49m\u001b[43m,\u001b[49m\n\u001b[0;32m   1147\u001b[0m \u001b[43m    \u001b[49m\u001b[43mencoder_attention_mask\u001b[49m\u001b[38;5;241;43m=\u001b[39;49m\u001b[43mencoder_extended_attention_mask\u001b[49m\u001b[43m,\u001b[49m\n\u001b[0;32m   1148\u001b[0m \u001b[43m    \u001b[49m\u001b[43mpast_key_values\u001b[49m\u001b[38;5;241;43m=\u001b[39;49m\u001b[43mpast_key_values\u001b[49m\u001b[43m,\u001b[49m\n\u001b[0;32m   1149\u001b[0m \u001b[43m    \u001b[49m\u001b[43muse_cache\u001b[49m\u001b[38;5;241;43m=\u001b[39;49m\u001b[43muse_cache\u001b[49m\u001b[43m,\u001b[49m\n\u001b[0;32m   1150\u001b[0m \u001b[43m    \u001b[49m\u001b[43moutput_attentions\u001b[49m\u001b[38;5;241;43m=\u001b[39;49m\u001b[43moutput_attentions\u001b[49m\u001b[43m,\u001b[49m\n\u001b[0;32m   1151\u001b[0m \u001b[43m    \u001b[49m\u001b[43moutput_hidden_states\u001b[49m\u001b[38;5;241;43m=\u001b[39;49m\u001b[43moutput_hidden_states\u001b[49m\u001b[43m,\u001b[49m\n\u001b[0;32m   1152\u001b[0m \u001b[43m    \u001b[49m\u001b[43mreturn_dict\u001b[49m\u001b[38;5;241;43m=\u001b[39;49m\u001b[43mreturn_dict\u001b[49m\u001b[43m,\u001b[49m\n\u001b[0;32m   1153\u001b[0m \u001b[43m\u001b[49m\u001b[43m)\u001b[49m\n\u001b[0;32m   1154\u001b[0m sequence_output \u001b[38;5;241m=\u001b[39m encoder_outputs[\u001b[38;5;241m0\u001b[39m]\n\u001b[0;32m   1155\u001b[0m pooled_output \u001b[38;5;241m=\u001b[39m \u001b[38;5;28mself\u001b[39m\u001b[38;5;241m.\u001b[39mpooler(sequence_output) \u001b[38;5;28;01mif\u001b[39;00m \u001b[38;5;28mself\u001b[39m\u001b[38;5;241m.\u001b[39mpooler \u001b[38;5;129;01mis\u001b[39;00m \u001b[38;5;129;01mnot\u001b[39;00m \u001b[38;5;28;01mNone\u001b[39;00m \u001b[38;5;28;01melse\u001b[39;00m \u001b[38;5;28;01mNone\u001b[39;00m\n",
      "File \u001b[1;32mc:\\Users\\zande\\OneDrive\\Desktop\\College Classes\\Fall 2024\\CS 506\\Midterm Code\\env\\Lib\\site-packages\\torch\\nn\\modules\\module.py:1736\u001b[0m, in \u001b[0;36mModule._wrapped_call_impl\u001b[1;34m(self, *args, **kwargs)\u001b[0m\n\u001b[0;32m   1734\u001b[0m     \u001b[38;5;28;01mreturn\u001b[39;00m \u001b[38;5;28mself\u001b[39m\u001b[38;5;241m.\u001b[39m_compiled_call_impl(\u001b[38;5;241m*\u001b[39margs, \u001b[38;5;241m*\u001b[39m\u001b[38;5;241m*\u001b[39mkwargs)  \u001b[38;5;66;03m# type: ignore[misc]\u001b[39;00m\n\u001b[0;32m   1735\u001b[0m \u001b[38;5;28;01melse\u001b[39;00m:\n\u001b[1;32m-> 1736\u001b[0m     \u001b[38;5;28;01mreturn\u001b[39;00m \u001b[38;5;28;43mself\u001b[39;49m\u001b[38;5;241;43m.\u001b[39;49m\u001b[43m_call_impl\u001b[49m\u001b[43m(\u001b[49m\u001b[38;5;241;43m*\u001b[39;49m\u001b[43margs\u001b[49m\u001b[43m,\u001b[49m\u001b[43m \u001b[49m\u001b[38;5;241;43m*\u001b[39;49m\u001b[38;5;241;43m*\u001b[39;49m\u001b[43mkwargs\u001b[49m\u001b[43m)\u001b[49m\n",
      "File \u001b[1;32mc:\\Users\\zande\\OneDrive\\Desktop\\College Classes\\Fall 2024\\CS 506\\Midterm Code\\env\\Lib\\site-packages\\torch\\nn\\modules\\module.py:1747\u001b[0m, in \u001b[0;36mModule._call_impl\u001b[1;34m(self, *args, **kwargs)\u001b[0m\n\u001b[0;32m   1742\u001b[0m \u001b[38;5;66;03m# If we don't have any hooks, we want to skip the rest of the logic in\u001b[39;00m\n\u001b[0;32m   1743\u001b[0m \u001b[38;5;66;03m# this function, and just call forward.\u001b[39;00m\n\u001b[0;32m   1744\u001b[0m \u001b[38;5;28;01mif\u001b[39;00m \u001b[38;5;129;01mnot\u001b[39;00m (\u001b[38;5;28mself\u001b[39m\u001b[38;5;241m.\u001b[39m_backward_hooks \u001b[38;5;129;01mor\u001b[39;00m \u001b[38;5;28mself\u001b[39m\u001b[38;5;241m.\u001b[39m_backward_pre_hooks \u001b[38;5;129;01mor\u001b[39;00m \u001b[38;5;28mself\u001b[39m\u001b[38;5;241m.\u001b[39m_forward_hooks \u001b[38;5;129;01mor\u001b[39;00m \u001b[38;5;28mself\u001b[39m\u001b[38;5;241m.\u001b[39m_forward_pre_hooks\n\u001b[0;32m   1745\u001b[0m         \u001b[38;5;129;01mor\u001b[39;00m _global_backward_pre_hooks \u001b[38;5;129;01mor\u001b[39;00m _global_backward_hooks\n\u001b[0;32m   1746\u001b[0m         \u001b[38;5;129;01mor\u001b[39;00m _global_forward_hooks \u001b[38;5;129;01mor\u001b[39;00m _global_forward_pre_hooks):\n\u001b[1;32m-> 1747\u001b[0m     \u001b[38;5;28;01mreturn\u001b[39;00m \u001b[43mforward_call\u001b[49m\u001b[43m(\u001b[49m\u001b[38;5;241;43m*\u001b[39;49m\u001b[43margs\u001b[49m\u001b[43m,\u001b[49m\u001b[43m \u001b[49m\u001b[38;5;241;43m*\u001b[39;49m\u001b[38;5;241;43m*\u001b[39;49m\u001b[43mkwargs\u001b[49m\u001b[43m)\u001b[49m\n\u001b[0;32m   1749\u001b[0m result \u001b[38;5;241m=\u001b[39m \u001b[38;5;28;01mNone\u001b[39;00m\n\u001b[0;32m   1750\u001b[0m called_always_called_hooks \u001b[38;5;241m=\u001b[39m \u001b[38;5;28mset\u001b[39m()\n",
      "File \u001b[1;32mc:\\Users\\zande\\OneDrive\\Desktop\\College Classes\\Fall 2024\\CS 506\\Midterm Code\\env\\Lib\\site-packages\\transformers\\models\\bert\\modeling_bert.py:695\u001b[0m, in \u001b[0;36mBertEncoder.forward\u001b[1;34m(self, hidden_states, attention_mask, head_mask, encoder_hidden_states, encoder_attention_mask, past_key_values, use_cache, output_attentions, output_hidden_states, return_dict)\u001b[0m\n\u001b[0;32m    684\u001b[0m     layer_outputs \u001b[38;5;241m=\u001b[39m \u001b[38;5;28mself\u001b[39m\u001b[38;5;241m.\u001b[39m_gradient_checkpointing_func(\n\u001b[0;32m    685\u001b[0m         layer_module\u001b[38;5;241m.\u001b[39m\u001b[38;5;21m__call__\u001b[39m,\n\u001b[0;32m    686\u001b[0m         hidden_states,\n\u001b[1;32m   (...)\u001b[0m\n\u001b[0;32m    692\u001b[0m         output_attentions,\n\u001b[0;32m    693\u001b[0m     )\n\u001b[0;32m    694\u001b[0m \u001b[38;5;28;01melse\u001b[39;00m:\n\u001b[1;32m--> 695\u001b[0m     layer_outputs \u001b[38;5;241m=\u001b[39m \u001b[43mlayer_module\u001b[49m\u001b[43m(\u001b[49m\n\u001b[0;32m    696\u001b[0m \u001b[43m        \u001b[49m\u001b[43mhidden_states\u001b[49m\u001b[43m,\u001b[49m\n\u001b[0;32m    697\u001b[0m \u001b[43m        \u001b[49m\u001b[43mattention_mask\u001b[49m\u001b[43m,\u001b[49m\n\u001b[0;32m    698\u001b[0m \u001b[43m        \u001b[49m\u001b[43mlayer_head_mask\u001b[49m\u001b[43m,\u001b[49m\n\u001b[0;32m    699\u001b[0m \u001b[43m        \u001b[49m\u001b[43mencoder_hidden_states\u001b[49m\u001b[43m,\u001b[49m\n\u001b[0;32m    700\u001b[0m \u001b[43m        \u001b[49m\u001b[43mencoder_attention_mask\u001b[49m\u001b[43m,\u001b[49m\n\u001b[0;32m    701\u001b[0m \u001b[43m        \u001b[49m\u001b[43mpast_key_value\u001b[49m\u001b[43m,\u001b[49m\n\u001b[0;32m    702\u001b[0m \u001b[43m        \u001b[49m\u001b[43moutput_attentions\u001b[49m\u001b[43m,\u001b[49m\n\u001b[0;32m    703\u001b[0m \u001b[43m    \u001b[49m\u001b[43m)\u001b[49m\n\u001b[0;32m    705\u001b[0m hidden_states \u001b[38;5;241m=\u001b[39m layer_outputs[\u001b[38;5;241m0\u001b[39m]\n\u001b[0;32m    706\u001b[0m \u001b[38;5;28;01mif\u001b[39;00m use_cache:\n",
      "File \u001b[1;32mc:\\Users\\zande\\OneDrive\\Desktop\\College Classes\\Fall 2024\\CS 506\\Midterm Code\\env\\Lib\\site-packages\\torch\\nn\\modules\\module.py:1736\u001b[0m, in \u001b[0;36mModule._wrapped_call_impl\u001b[1;34m(self, *args, **kwargs)\u001b[0m\n\u001b[0;32m   1734\u001b[0m     \u001b[38;5;28;01mreturn\u001b[39;00m \u001b[38;5;28mself\u001b[39m\u001b[38;5;241m.\u001b[39m_compiled_call_impl(\u001b[38;5;241m*\u001b[39margs, \u001b[38;5;241m*\u001b[39m\u001b[38;5;241m*\u001b[39mkwargs)  \u001b[38;5;66;03m# type: ignore[misc]\u001b[39;00m\n\u001b[0;32m   1735\u001b[0m \u001b[38;5;28;01melse\u001b[39;00m:\n\u001b[1;32m-> 1736\u001b[0m     \u001b[38;5;28;01mreturn\u001b[39;00m \u001b[38;5;28;43mself\u001b[39;49m\u001b[38;5;241;43m.\u001b[39;49m\u001b[43m_call_impl\u001b[49m\u001b[43m(\u001b[49m\u001b[38;5;241;43m*\u001b[39;49m\u001b[43margs\u001b[49m\u001b[43m,\u001b[49m\u001b[43m \u001b[49m\u001b[38;5;241;43m*\u001b[39;49m\u001b[38;5;241;43m*\u001b[39;49m\u001b[43mkwargs\u001b[49m\u001b[43m)\u001b[49m\n",
      "File \u001b[1;32mc:\\Users\\zande\\OneDrive\\Desktop\\College Classes\\Fall 2024\\CS 506\\Midterm Code\\env\\Lib\\site-packages\\torch\\nn\\modules\\module.py:1747\u001b[0m, in \u001b[0;36mModule._call_impl\u001b[1;34m(self, *args, **kwargs)\u001b[0m\n\u001b[0;32m   1742\u001b[0m \u001b[38;5;66;03m# If we don't have any hooks, we want to skip the rest of the logic in\u001b[39;00m\n\u001b[0;32m   1743\u001b[0m \u001b[38;5;66;03m# this function, and just call forward.\u001b[39;00m\n\u001b[0;32m   1744\u001b[0m \u001b[38;5;28;01mif\u001b[39;00m \u001b[38;5;129;01mnot\u001b[39;00m (\u001b[38;5;28mself\u001b[39m\u001b[38;5;241m.\u001b[39m_backward_hooks \u001b[38;5;129;01mor\u001b[39;00m \u001b[38;5;28mself\u001b[39m\u001b[38;5;241m.\u001b[39m_backward_pre_hooks \u001b[38;5;129;01mor\u001b[39;00m \u001b[38;5;28mself\u001b[39m\u001b[38;5;241m.\u001b[39m_forward_hooks \u001b[38;5;129;01mor\u001b[39;00m \u001b[38;5;28mself\u001b[39m\u001b[38;5;241m.\u001b[39m_forward_pre_hooks\n\u001b[0;32m   1745\u001b[0m         \u001b[38;5;129;01mor\u001b[39;00m _global_backward_pre_hooks \u001b[38;5;129;01mor\u001b[39;00m _global_backward_hooks\n\u001b[0;32m   1746\u001b[0m         \u001b[38;5;129;01mor\u001b[39;00m _global_forward_hooks \u001b[38;5;129;01mor\u001b[39;00m _global_forward_pre_hooks):\n\u001b[1;32m-> 1747\u001b[0m     \u001b[38;5;28;01mreturn\u001b[39;00m \u001b[43mforward_call\u001b[49m\u001b[43m(\u001b[49m\u001b[38;5;241;43m*\u001b[39;49m\u001b[43margs\u001b[49m\u001b[43m,\u001b[49m\u001b[43m \u001b[49m\u001b[38;5;241;43m*\u001b[39;49m\u001b[38;5;241;43m*\u001b[39;49m\u001b[43mkwargs\u001b[49m\u001b[43m)\u001b[49m\n\u001b[0;32m   1749\u001b[0m result \u001b[38;5;241m=\u001b[39m \u001b[38;5;28;01mNone\u001b[39;00m\n\u001b[0;32m   1750\u001b[0m called_always_called_hooks \u001b[38;5;241m=\u001b[39m \u001b[38;5;28mset\u001b[39m()\n",
      "File \u001b[1;32mc:\\Users\\zande\\OneDrive\\Desktop\\College Classes\\Fall 2024\\CS 506\\Midterm Code\\env\\Lib\\site-packages\\transformers\\models\\bert\\modeling_bert.py:627\u001b[0m, in \u001b[0;36mBertLayer.forward\u001b[1;34m(self, hidden_states, attention_mask, head_mask, encoder_hidden_states, encoder_attention_mask, past_key_value, output_attentions)\u001b[0m\n\u001b[0;32m    624\u001b[0m     cross_attn_present_key_value \u001b[38;5;241m=\u001b[39m cross_attention_outputs[\u001b[38;5;241m-\u001b[39m\u001b[38;5;241m1\u001b[39m]\n\u001b[0;32m    625\u001b[0m     present_key_value \u001b[38;5;241m=\u001b[39m present_key_value \u001b[38;5;241m+\u001b[39m cross_attn_present_key_value\n\u001b[1;32m--> 627\u001b[0m layer_output \u001b[38;5;241m=\u001b[39m \u001b[43mapply_chunking_to_forward\u001b[49m\u001b[43m(\u001b[49m\n\u001b[0;32m    628\u001b[0m \u001b[43m    \u001b[49m\u001b[38;5;28;43mself\u001b[39;49m\u001b[38;5;241;43m.\u001b[39;49m\u001b[43mfeed_forward_chunk\u001b[49m\u001b[43m,\u001b[49m\u001b[43m \u001b[49m\u001b[38;5;28;43mself\u001b[39;49m\u001b[38;5;241;43m.\u001b[39;49m\u001b[43mchunk_size_feed_forward\u001b[49m\u001b[43m,\u001b[49m\u001b[43m \u001b[49m\u001b[38;5;28;43mself\u001b[39;49m\u001b[38;5;241;43m.\u001b[39;49m\u001b[43mseq_len_dim\u001b[49m\u001b[43m,\u001b[49m\u001b[43m \u001b[49m\u001b[43mattention_output\u001b[49m\n\u001b[0;32m    629\u001b[0m \u001b[43m\u001b[49m\u001b[43m)\u001b[49m\n\u001b[0;32m    630\u001b[0m outputs \u001b[38;5;241m=\u001b[39m (layer_output,) \u001b[38;5;241m+\u001b[39m outputs\n\u001b[0;32m    632\u001b[0m \u001b[38;5;66;03m# if decoder, return the attn key/values as the last output\u001b[39;00m\n",
      "File \u001b[1;32mc:\\Users\\zande\\OneDrive\\Desktop\\College Classes\\Fall 2024\\CS 506\\Midterm Code\\env\\Lib\\site-packages\\transformers\\pytorch_utils.py:248\u001b[0m, in \u001b[0;36mapply_chunking_to_forward\u001b[1;34m(forward_fn, chunk_size, chunk_dim, *input_tensors)\u001b[0m\n\u001b[0;32m    245\u001b[0m     \u001b[38;5;66;03m# concatenate output at same dimension\u001b[39;00m\n\u001b[0;32m    246\u001b[0m     \u001b[38;5;28;01mreturn\u001b[39;00m torch\u001b[38;5;241m.\u001b[39mcat(output_chunks, dim\u001b[38;5;241m=\u001b[39mchunk_dim)\n\u001b[1;32m--> 248\u001b[0m \u001b[38;5;28;01mreturn\u001b[39;00m \u001b[43mforward_fn\u001b[49m\u001b[43m(\u001b[49m\u001b[38;5;241;43m*\u001b[39;49m\u001b[43minput_tensors\u001b[49m\u001b[43m)\u001b[49m\n",
      "File \u001b[1;32mc:\\Users\\zande\\OneDrive\\Desktop\\College Classes\\Fall 2024\\CS 506\\Midterm Code\\env\\Lib\\site-packages\\transformers\\models\\bert\\modeling_bert.py:640\u001b[0m, in \u001b[0;36mBertLayer.feed_forward_chunk\u001b[1;34m(self, attention_output)\u001b[0m\n\u001b[0;32m    638\u001b[0m \u001b[38;5;28;01mdef\u001b[39;00m \u001b[38;5;21mfeed_forward_chunk\u001b[39m(\u001b[38;5;28mself\u001b[39m, attention_output):\n\u001b[0;32m    639\u001b[0m     intermediate_output \u001b[38;5;241m=\u001b[39m \u001b[38;5;28mself\u001b[39m\u001b[38;5;241m.\u001b[39mintermediate(attention_output)\n\u001b[1;32m--> 640\u001b[0m     layer_output \u001b[38;5;241m=\u001b[39m \u001b[38;5;28;43mself\u001b[39;49m\u001b[38;5;241;43m.\u001b[39;49m\u001b[43moutput\u001b[49m\u001b[43m(\u001b[49m\u001b[43mintermediate_output\u001b[49m\u001b[43m,\u001b[49m\u001b[43m \u001b[49m\u001b[43mattention_output\u001b[49m\u001b[43m)\u001b[49m\n\u001b[0;32m    641\u001b[0m     \u001b[38;5;28;01mreturn\u001b[39;00m layer_output\n",
      "File \u001b[1;32mc:\\Users\\zande\\OneDrive\\Desktop\\College Classes\\Fall 2024\\CS 506\\Midterm Code\\env\\Lib\\site-packages\\torch\\nn\\modules\\module.py:1736\u001b[0m, in \u001b[0;36mModule._wrapped_call_impl\u001b[1;34m(self, *args, **kwargs)\u001b[0m\n\u001b[0;32m   1734\u001b[0m     \u001b[38;5;28;01mreturn\u001b[39;00m \u001b[38;5;28mself\u001b[39m\u001b[38;5;241m.\u001b[39m_compiled_call_impl(\u001b[38;5;241m*\u001b[39margs, \u001b[38;5;241m*\u001b[39m\u001b[38;5;241m*\u001b[39mkwargs)  \u001b[38;5;66;03m# type: ignore[misc]\u001b[39;00m\n\u001b[0;32m   1735\u001b[0m \u001b[38;5;28;01melse\u001b[39;00m:\n\u001b[1;32m-> 1736\u001b[0m     \u001b[38;5;28;01mreturn\u001b[39;00m \u001b[38;5;28;43mself\u001b[39;49m\u001b[38;5;241;43m.\u001b[39;49m\u001b[43m_call_impl\u001b[49m\u001b[43m(\u001b[49m\u001b[38;5;241;43m*\u001b[39;49m\u001b[43margs\u001b[49m\u001b[43m,\u001b[49m\u001b[43m \u001b[49m\u001b[38;5;241;43m*\u001b[39;49m\u001b[38;5;241;43m*\u001b[39;49m\u001b[43mkwargs\u001b[49m\u001b[43m)\u001b[49m\n",
      "File \u001b[1;32mc:\\Users\\zande\\OneDrive\\Desktop\\College Classes\\Fall 2024\\CS 506\\Midterm Code\\env\\Lib\\site-packages\\torch\\nn\\modules\\module.py:1747\u001b[0m, in \u001b[0;36mModule._call_impl\u001b[1;34m(self, *args, **kwargs)\u001b[0m\n\u001b[0;32m   1742\u001b[0m \u001b[38;5;66;03m# If we don't have any hooks, we want to skip the rest of the logic in\u001b[39;00m\n\u001b[0;32m   1743\u001b[0m \u001b[38;5;66;03m# this function, and just call forward.\u001b[39;00m\n\u001b[0;32m   1744\u001b[0m \u001b[38;5;28;01mif\u001b[39;00m \u001b[38;5;129;01mnot\u001b[39;00m (\u001b[38;5;28mself\u001b[39m\u001b[38;5;241m.\u001b[39m_backward_hooks \u001b[38;5;129;01mor\u001b[39;00m \u001b[38;5;28mself\u001b[39m\u001b[38;5;241m.\u001b[39m_backward_pre_hooks \u001b[38;5;129;01mor\u001b[39;00m \u001b[38;5;28mself\u001b[39m\u001b[38;5;241m.\u001b[39m_forward_hooks \u001b[38;5;129;01mor\u001b[39;00m \u001b[38;5;28mself\u001b[39m\u001b[38;5;241m.\u001b[39m_forward_pre_hooks\n\u001b[0;32m   1745\u001b[0m         \u001b[38;5;129;01mor\u001b[39;00m _global_backward_pre_hooks \u001b[38;5;129;01mor\u001b[39;00m _global_backward_hooks\n\u001b[0;32m   1746\u001b[0m         \u001b[38;5;129;01mor\u001b[39;00m _global_forward_hooks \u001b[38;5;129;01mor\u001b[39;00m _global_forward_pre_hooks):\n\u001b[1;32m-> 1747\u001b[0m     \u001b[38;5;28;01mreturn\u001b[39;00m \u001b[43mforward_call\u001b[49m\u001b[43m(\u001b[49m\u001b[38;5;241;43m*\u001b[39;49m\u001b[43margs\u001b[49m\u001b[43m,\u001b[49m\u001b[43m \u001b[49m\u001b[38;5;241;43m*\u001b[39;49m\u001b[38;5;241;43m*\u001b[39;49m\u001b[43mkwargs\u001b[49m\u001b[43m)\u001b[49m\n\u001b[0;32m   1749\u001b[0m result \u001b[38;5;241m=\u001b[39m \u001b[38;5;28;01mNone\u001b[39;00m\n\u001b[0;32m   1750\u001b[0m called_always_called_hooks \u001b[38;5;241m=\u001b[39m \u001b[38;5;28mset\u001b[39m()\n",
      "File \u001b[1;32mc:\\Users\\zande\\OneDrive\\Desktop\\College Classes\\Fall 2024\\CS 506\\Midterm Code\\env\\Lib\\site-packages\\transformers\\models\\bert\\modeling_bert.py:554\u001b[0m, in \u001b[0;36mBertOutput.forward\u001b[1;34m(self, hidden_states, input_tensor)\u001b[0m\n\u001b[0;32m    552\u001b[0m hidden_states \u001b[38;5;241m=\u001b[39m \u001b[38;5;28mself\u001b[39m\u001b[38;5;241m.\u001b[39mdense(hidden_states)\n\u001b[0;32m    553\u001b[0m hidden_states \u001b[38;5;241m=\u001b[39m \u001b[38;5;28mself\u001b[39m\u001b[38;5;241m.\u001b[39mdropout(hidden_states)\n\u001b[1;32m--> 554\u001b[0m hidden_states \u001b[38;5;241m=\u001b[39m \u001b[38;5;28;43mself\u001b[39;49m\u001b[38;5;241;43m.\u001b[39;49m\u001b[43mLayerNorm\u001b[49m\u001b[43m(\u001b[49m\u001b[43mhidden_states\u001b[49m\u001b[43m \u001b[49m\u001b[38;5;241;43m+\u001b[39;49m\u001b[43m \u001b[49m\u001b[43minput_tensor\u001b[49m\u001b[43m)\u001b[49m\n\u001b[0;32m    555\u001b[0m \u001b[38;5;28;01mreturn\u001b[39;00m hidden_states\n",
      "\u001b[1;31mKeyboardInterrupt\u001b[0m: "
     ]
    }
   ],
   "source": [
    "import pandas as pd\n",
    "import numpy as np\n",
    "import torch\n",
    "from sklearn.model_selection import train_test_split\n",
    "from sklearn.ensemble import GradientBoostingRegressor\n",
    "from sklearn.preprocessing import LabelEncoder\n",
    "from transformers import BertTokenizer, BertModel\n",
    "from sklearn.metrics import mean_squared_error\n",
    "\n",
    "# Define numeric and categorical features only (excluding 'Text' and 'Summary')\n",
    "features = ['HelpfulnessNumerator', 'HelpfulnessDenominator', 'Helpfulness', 'user_avg_score', \n",
    "            'ProductId', 'UserId', 'Year']\n",
    "print(\"at features\")\n",
    "# Separate features (X) and target (y) for the main training set\n",
    "# X = X_train[features]\n",
    "# y = X_train['Score']\n",
    "\n",
    "# Split data into train and validation sets\n",
    "X_train_structured, X_val_structured, y_train, y_val = train_test_split(X[features], y, test_size=0.2, random_state=42)\n",
    "print(\"data was split\")\n",
    "# Apply combined label encoding for 'ProductId' and 'UserId'\n",
    "label_encoder_product = LabelEncoder()\n",
    "label_encoder_user = LabelEncoder()\n",
    "print(\"finished labels\")\n",
    "# Fit on combined data and transform for consistency across training and validation sets\n",
    "X['ProductId'] = label_encoder_product.fit_transform(X['ProductId'])\n",
    "print(\"product id is finally done \")\n",
    "X['UserId'] = label_encoder_user.fit_transform(X['UserId'])\n",
    "print(\"user id is finally done \")\n",
    "\n",
    "# Transform training and validation sets\n",
    "X_train_structured['ProductId'] = label_encoder_product.transform(X_train_structured['ProductId'])\n",
    "print(\"X_train_structured['ProductId'] done\")\n",
    "X_train_structured['UserId'] = label_encoder_user.transform(X_train_structured['UserId'])\n",
    "print(\"X_train_structured['UserId'] done\")\n",
    "X_val_structured['ProductId'] = label_encoder_product.transform(X_val_structured['ProductId'])\n",
    "print(\"X_val_structured['ProductId']\")\n",
    "X_val_structured['UserId'] = label_encoder_user.transform(X_val_structured['UserId'])\n",
    "\n",
    "print(\"X_val_structured['UserId'] done\")\n",
    "# Gradient Boosting for structured data\n",
    "model_gb = GradientBoostingRegressor()\n",
    "print(\"made model_gb\")\n",
    "model_gb.fit(X_train_structured, y_train)\n",
    "print(\"model_gb.fit\")\n",
    "y_pred_gb = model_gb.predict(X_val_structured)\n",
    "print(\"y_pred_gb\")\n",
    "\n",
    "# Initialize BERT tokenizer and model\n",
    "tokenizer = BertTokenizer.from_pretrained('bert-base-uncased')\n",
    "print(\"at tokenizer\")\n",
    "model_bert = BertModel.from_pretrained(\"bert-base-uncased\")\n",
    "print(\"model_bert\")\n",
    "\n",
    "# Function to create BERT embeddings in batches\n",
    "def get_bert_embeddings(text_series, batch_size=64):\n",
    "    embeddings = []\n",
    "    for i in range(0, len(text_series), batch_size):\n",
    "        batch_text = text_series[i:i+batch_size].fillna(\"\")\n",
    "        inputs = tokenizer(list(batch_text), return_tensors=\"pt\", padding=True, truncation=True, max_length=128)\n",
    "        with torch.no_grad():  # disable gradient computation for inference\n",
    "            outputs = model_bert(**inputs)\n",
    "        batch_embeddings = outputs.last_hidden_state.mean(dim=1).numpy()\n",
    "        embeddings.append(batch_embeddings)\n",
    "    return np.vstack(embeddings)\n",
    "\n",
    "# Generate embeddings for train and validation text data in batches\n",
    "text_embeddings_train = get_bert_embeddings(X_train['Text'], batch_size=256)\n",
    "print(\"text_embeddings_train done\")\n",
    "text_embeddings_val = get_bert_embeddings(X_val_structured['Text'], batch_size=256)\n",
    "print(\"text_embeddings_val done\")\n",
    "# Combine embeddings with structured features\n",
    "X_train_hybrid = pd.concat([pd.DataFrame(text_embeddings_train), X_train_structured.reset_index(drop=True)], axis=1)\n",
    "print(\"X_train_hybrid\")\n",
    "X_val_hybrid = pd.concat([pd.DataFrame(text_embeddings_val), X_val_structured.reset_index(drop=True)], axis=1)\n",
    "print(\"X_val_hybrid \")\n",
    "\n",
    "# Ensemble training (structured + text embeddings)\n",
    "final_model = GradientBoostingRegressor()\n",
    "print(\"final model\")\n",
    "final_model.fit(X_train_hybrid, y_train)\n",
    "print(\"final model fit\")\n",
    "# Evaluation\n",
    "y_pred_final = final_model.predict(X_val_hybrid)\n",
    "print(\"y_pred_final\")\n",
    "\n",
    "# Results\n",
    "print(\"Hybrid Model MSE:\", mean_squared_error(y_val, y_pred_final))\n"
   ]
  },
  {
   "cell_type": "markdown",
   "metadata": {},
   "source": [
    "# Model Creation"
   ]
  },
  {
   "cell_type": "code",
   "execution_count": 10,
   "metadata": {},
   "outputs": [],
   "source": []
  },
  {
   "cell_type": "markdown",
   "metadata": {},
   "source": [
    "# Model Evaluation"
   ]
  },
  {
   "cell_type": "code",
   "execution_count": 11,
   "metadata": {},
   "outputs": [
    {
     "name": "stdout",
     "output_type": "stream",
     "text": [
      "Accuracy on testing set =  0.3957325300876392\n"
     ]
    },
    {
     "data": {
      "image/png": "[encoded data removed]",
      "text/plain": [
       "<Figure size 640x480 with 2 Axes>"
      ]
     },
     "metadata": {},
     "output_type": "display_data"
    }
   ],
   "source": [
    "from sklearn.metrics import mean_squared_error, r2_score\n",
    "import matplotlib.pyplot as plt\n",
    "import seaborn as sns\n",
    "\n",
    "# Evaluate using Mean Squared Error for regression\n",
    "mse = mean_squared_error(y_val, y_pred_final)\n",
    "r2 = r2_score(y_val, y_pred_final)\n",
    "\n",
    "print(\"Hybrid Model Mean Squared Error:\", mse)\n",
    "print(\"Hybrid Model R-squared:\", r2)\n",
    "\n",
    "# Plotting residuals to visualize the prediction performance\n",
    "residuals = y_val - y_pred_final\n",
    "plt.figure(figsize=(10, 6))\n",
    "sns.histplot(residuals, kde=True, color=\"blue\", bins=30)\n",
    "plt.title(\"Residuals Distribution\")\n",
    "plt.xlabel(\"Residuals\")\n",
    "plt.ylabel(\"Frequency\")\n",
    "plt.show()\n",
    "\n",
    "# Scatter plot of predictions vs actual values for a quick visual check\n",
    "plt.figure(figsize=(8, 8))\n",
    "plt.scatter(y_val, y_pred_final, alpha=0.5)\n",
    "plt.plot([y_val.min(), y_val.max()], [y_val.min(), y_val.max()], 'r--')\n",
    "plt.xlabel(\"Actual Values\")\n",
    "plt.ylabel(\"Predicted Values\")\n",
    "plt.title(\"Actual vs Predicted Values\")\n",
    "plt.show()"
   ]
  },
  {
   "cell_type": "markdown",
   "metadata": {},
   "source": [
    "# Create submission file"
   ]
  },
  {
   "cell_type": "code",
   "execution_count": 8,
   "metadata": {},
   "outputs": [],
   "source": [
    "# Create the submission file\n",
    "X_submission['Score'] = model.predict(X_submission_select)\n",
    "submission = X_submission[['Id', 'Score']]\n",
    "submission.to_csv(\"./data/submission.csv\", index=False)"
   ]
  }
 ],
 "metadata": {
  "kernelspec": {
   "display_name": "env",
   "language": "python",
   "name": "python3"
  },
  "language_info": {
   "codemirror_mode": {
    "name": "ipython",
    "version": 3
   },
   "file_extension": ".py",
   "mimetype": "text/x-python",
   "name": "python",
   "nbconvert_exporter": "python",
   "pygments_lexer": "ipython3",
   "version": "3.11.9"
  }
 },
 "nbformat": 4,
 "nbformat_minor": 2
}
